{
 "cells": [
  {
   "cell_type": "code",
   "execution_count": 3,
   "id": "4e84f98c",
   "metadata": {},
   "outputs": [],
   "source": [
    "import pandas as pd\n",
    "\n"
   ]
  },
  {
   "cell_type": "code",
   "execution_count": 2,
   "id": "a7562f83",
   "metadata": {},
   "outputs": [
    {
     "data": {
      "text/html": [
       "<div>\n",
       "<style scoped>\n",
       "    .dataframe tbody tr th:only-of-type {\n",
       "        vertical-align: middle;\n",
       "    }\n",
       "\n",
       "    .dataframe tbody tr th {\n",
       "        vertical-align: top;\n",
       "    }\n",
       "\n",
       "    .dataframe thead th {\n",
       "        text-align: right;\n",
       "    }\n",
       "</style>\n",
       "<table border=\"1\" class=\"dataframe\">\n",
       "  <thead>\n",
       "    <tr style=\"text-align: right;\">\n",
       "      <th></th>\n",
       "      <th>Pregnancies</th>\n",
       "      <th>Glucose</th>\n",
       "      <th>BloodPressure</th>\n",
       "      <th>SkinThickness</th>\n",
       "      <th>Insulin</th>\n",
       "      <th>BMI</th>\n",
       "      <th>DiabetesPedigreeFunction</th>\n",
       "      <th>Age</th>\n",
       "      <th>Outcome</th>\n",
       "    </tr>\n",
       "  </thead>\n",
       "  <tbody>\n",
       "    <tr>\n",
       "      <th>0</th>\n",
       "      <td>6</td>\n",
       "      <td>148</td>\n",
       "      <td>72</td>\n",
       "      <td>35</td>\n",
       "      <td>0</td>\n",
       "      <td>33.6</td>\n",
       "      <td>0.627</td>\n",
       "      <td>50</td>\n",
       "      <td>1</td>\n",
       "    </tr>\n",
       "    <tr>\n",
       "      <th>1</th>\n",
       "      <td>1</td>\n",
       "      <td>85</td>\n",
       "      <td>66</td>\n",
       "      <td>29</td>\n",
       "      <td>0</td>\n",
       "      <td>26.6</td>\n",
       "      <td>0.351</td>\n",
       "      <td>31</td>\n",
       "      <td>0</td>\n",
       "    </tr>\n",
       "    <tr>\n",
       "      <th>2</th>\n",
       "      <td>8</td>\n",
       "      <td>183</td>\n",
       "      <td>64</td>\n",
       "      <td>0</td>\n",
       "      <td>0</td>\n",
       "      <td>23.3</td>\n",
       "      <td>0.672</td>\n",
       "      <td>32</td>\n",
       "      <td>1</td>\n",
       "    </tr>\n",
       "    <tr>\n",
       "      <th>3</th>\n",
       "      <td>1</td>\n",
       "      <td>89</td>\n",
       "      <td>66</td>\n",
       "      <td>23</td>\n",
       "      <td>94</td>\n",
       "      <td>28.1</td>\n",
       "      <td>0.167</td>\n",
       "      <td>21</td>\n",
       "      <td>0</td>\n",
       "    </tr>\n",
       "    <tr>\n",
       "      <th>4</th>\n",
       "      <td>0</td>\n",
       "      <td>137</td>\n",
       "      <td>40</td>\n",
       "      <td>35</td>\n",
       "      <td>168</td>\n",
       "      <td>43.1</td>\n",
       "      <td>2.288</td>\n",
       "      <td>33</td>\n",
       "      <td>1</td>\n",
       "    </tr>\n",
       "  </tbody>\n",
       "</table>\n",
       "</div>"
      ],
      "text/plain": [
       "   Pregnancies  Glucose  BloodPressure  SkinThickness  Insulin   BMI  \\\n",
       "0            6      148             72             35        0  33.6   \n",
       "1            1       85             66             29        0  26.6   \n",
       "2            8      183             64              0        0  23.3   \n",
       "3            1       89             66             23       94  28.1   \n",
       "4            0      137             40             35      168  43.1   \n",
       "\n",
       "   DiabetesPedigreeFunction  Age  Outcome  \n",
       "0                     0.627   50        1  \n",
       "1                     0.351   31        0  \n",
       "2                     0.672   32        1  \n",
       "3                     0.167   21        0  \n",
       "4                     2.288   33        1  "
      ]
     },
     "execution_count": 2,
     "metadata": {},
     "output_type": "execute_result"
    }
   ],
   "source": [
    "df=pd.read_csv('https://raw.githubusercontent.com/plotly/datasets/master/diabetes.csv')\n",
    "df.head()"
   ]
  },
  {
   "cell_type": "code",
   "execution_count": 4,
   "id": "7de58fa5",
   "metadata": {},
   "outputs": [
    {
     "name": "stdout",
     "output_type": "stream",
     "text": [
      "<class 'pandas.core.frame.DataFrame'>\n",
      "RangeIndex: 768 entries, 0 to 767\n",
      "Data columns (total 9 columns):\n",
      " #   Column                    Non-Null Count  Dtype  \n",
      "---  ------                    --------------  -----  \n",
      " 0   Pregnancies               768 non-null    int64  \n",
      " 1   Glucose                   768 non-null    int64  \n",
      " 2   BloodPressure             768 non-null    int64  \n",
      " 3   SkinThickness             768 non-null    int64  \n",
      " 4   Insulin                   768 non-null    int64  \n",
      " 5   BMI                       768 non-null    float64\n",
      " 6   DiabetesPedigreeFunction  768 non-null    float64\n",
      " 7   Age                       768 non-null    int64  \n",
      " 8   Outcome                   768 non-null    int64  \n",
      "dtypes: float64(2), int64(7)\n",
      "memory usage: 54.1 KB\n"
     ]
    }
   ],
   "source": [
    "df.info()"
   ]
  },
  {
   "cell_type": "code",
   "execution_count": 5,
   "id": "ed5c7666",
   "metadata": {},
   "outputs": [
    {
     "data": {
      "text/html": [
       "<div>\n",
       "<style scoped>\n",
       "    .dataframe tbody tr th:only-of-type {\n",
       "        vertical-align: middle;\n",
       "    }\n",
       "\n",
       "    .dataframe tbody tr th {\n",
       "        vertical-align: top;\n",
       "    }\n",
       "\n",
       "    .dataframe thead th {\n",
       "        text-align: right;\n",
       "    }\n",
       "</style>\n",
       "<table border=\"1\" class=\"dataframe\">\n",
       "  <thead>\n",
       "    <tr style=\"text-align: right;\">\n",
       "      <th></th>\n",
       "      <th>Pregnancies</th>\n",
       "      <th>Glucose</th>\n",
       "      <th>BloodPressure</th>\n",
       "      <th>SkinThickness</th>\n",
       "      <th>Insulin</th>\n",
       "      <th>BMI</th>\n",
       "      <th>DiabetesPedigreeFunction</th>\n",
       "      <th>Age</th>\n",
       "      <th>Outcome</th>\n",
       "    </tr>\n",
       "  </thead>\n",
       "  <tbody>\n",
       "    <tr>\n",
       "      <th>count</th>\n",
       "      <td>768.000000</td>\n",
       "      <td>768.000000</td>\n",
       "      <td>768.000000</td>\n",
       "      <td>768.000000</td>\n",
       "      <td>768.000000</td>\n",
       "      <td>768.000000</td>\n",
       "      <td>768.000000</td>\n",
       "      <td>768.000000</td>\n",
       "      <td>768.000000</td>\n",
       "    </tr>\n",
       "    <tr>\n",
       "      <th>mean</th>\n",
       "      <td>3.845052</td>\n",
       "      <td>120.894531</td>\n",
       "      <td>69.105469</td>\n",
       "      <td>20.536458</td>\n",
       "      <td>79.799479</td>\n",
       "      <td>31.992578</td>\n",
       "      <td>0.471876</td>\n",
       "      <td>33.240885</td>\n",
       "      <td>0.348958</td>\n",
       "    </tr>\n",
       "    <tr>\n",
       "      <th>std</th>\n",
       "      <td>3.369578</td>\n",
       "      <td>31.972618</td>\n",
       "      <td>19.355807</td>\n",
       "      <td>15.952218</td>\n",
       "      <td>115.244002</td>\n",
       "      <td>7.884160</td>\n",
       "      <td>0.331329</td>\n",
       "      <td>11.760232</td>\n",
       "      <td>0.476951</td>\n",
       "    </tr>\n",
       "    <tr>\n",
       "      <th>min</th>\n",
       "      <td>0.000000</td>\n",
       "      <td>0.000000</td>\n",
       "      <td>0.000000</td>\n",
       "      <td>0.000000</td>\n",
       "      <td>0.000000</td>\n",
       "      <td>0.000000</td>\n",
       "      <td>0.078000</td>\n",
       "      <td>21.000000</td>\n",
       "      <td>0.000000</td>\n",
       "    </tr>\n",
       "    <tr>\n",
       "      <th>25%</th>\n",
       "      <td>1.000000</td>\n",
       "      <td>99.000000</td>\n",
       "      <td>62.000000</td>\n",
       "      <td>0.000000</td>\n",
       "      <td>0.000000</td>\n",
       "      <td>27.300000</td>\n",
       "      <td>0.243750</td>\n",
       "      <td>24.000000</td>\n",
       "      <td>0.000000</td>\n",
       "    </tr>\n",
       "    <tr>\n",
       "      <th>50%</th>\n",
       "      <td>3.000000</td>\n",
       "      <td>117.000000</td>\n",
       "      <td>72.000000</td>\n",
       "      <td>23.000000</td>\n",
       "      <td>30.500000</td>\n",
       "      <td>32.000000</td>\n",
       "      <td>0.372500</td>\n",
       "      <td>29.000000</td>\n",
       "      <td>0.000000</td>\n",
       "    </tr>\n",
       "    <tr>\n",
       "      <th>75%</th>\n",
       "      <td>6.000000</td>\n",
       "      <td>140.250000</td>\n",
       "      <td>80.000000</td>\n",
       "      <td>32.000000</td>\n",
       "      <td>127.250000</td>\n",
       "      <td>36.600000</td>\n",
       "      <td>0.626250</td>\n",
       "      <td>41.000000</td>\n",
       "      <td>1.000000</td>\n",
       "    </tr>\n",
       "    <tr>\n",
       "      <th>max</th>\n",
       "      <td>17.000000</td>\n",
       "      <td>199.000000</td>\n",
       "      <td>122.000000</td>\n",
       "      <td>99.000000</td>\n",
       "      <td>846.000000</td>\n",
       "      <td>67.100000</td>\n",
       "      <td>2.420000</td>\n",
       "      <td>81.000000</td>\n",
       "      <td>1.000000</td>\n",
       "    </tr>\n",
       "  </tbody>\n",
       "</table>\n",
       "</div>"
      ],
      "text/plain": [
       "       Pregnancies     Glucose  BloodPressure  SkinThickness     Insulin  \\\n",
       "count   768.000000  768.000000     768.000000     768.000000  768.000000   \n",
       "mean      3.845052  120.894531      69.105469      20.536458   79.799479   \n",
       "std       3.369578   31.972618      19.355807      15.952218  115.244002   \n",
       "min       0.000000    0.000000       0.000000       0.000000    0.000000   \n",
       "25%       1.000000   99.000000      62.000000       0.000000    0.000000   \n",
       "50%       3.000000  117.000000      72.000000      23.000000   30.500000   \n",
       "75%       6.000000  140.250000      80.000000      32.000000  127.250000   \n",
       "max      17.000000  199.000000     122.000000      99.000000  846.000000   \n",
       "\n",
       "              BMI  DiabetesPedigreeFunction         Age     Outcome  \n",
       "count  768.000000                768.000000  768.000000  768.000000  \n",
       "mean    31.992578                  0.471876   33.240885    0.348958  \n",
       "std      7.884160                  0.331329   11.760232    0.476951  \n",
       "min      0.000000                  0.078000   21.000000    0.000000  \n",
       "25%     27.300000                  0.243750   24.000000    0.000000  \n",
       "50%     32.000000                  0.372500   29.000000    0.000000  \n",
       "75%     36.600000                  0.626250   41.000000    1.000000  \n",
       "max     67.100000                  2.420000   81.000000    1.000000  "
      ]
     },
     "execution_count": 5,
     "metadata": {},
     "output_type": "execute_result"
    }
   ],
   "source": [
    "df.describe()"
   ]
  },
  {
   "cell_type": "code",
   "execution_count": 6,
   "id": "3bdcafd5",
   "metadata": {},
   "outputs": [
    {
     "data": {
      "text/plain": [
       "Pregnancies                   int64\n",
       "Glucose                       int64\n",
       "BloodPressure                 int64\n",
       "SkinThickness                 int64\n",
       "Insulin                       int64\n",
       "BMI                         float64\n",
       "DiabetesPedigreeFunction    float64\n",
       "Age                           int64\n",
       "Outcome                       int64\n",
       "dtype: object"
      ]
     },
     "execution_count": 6,
     "metadata": {},
     "output_type": "execute_result"
    }
   ],
   "source": [
    "df.dtypes"
   ]
  },
  {
   "cell_type": "code",
   "execution_count": 7,
   "id": "99d8968c",
   "metadata": {},
   "outputs": [
    {
     "data": {
      "text/plain": [
       "Index(['Pregnancies', 'Glucose', 'BloodPressure', 'SkinThickness', 'Insulin',\n",
       "       'BMI', 'DiabetesPedigreeFunction', 'Age', 'Outcome'],\n",
       "      dtype='object')"
      ]
     },
     "execution_count": 7,
     "metadata": {},
     "output_type": "execute_result"
    }
   ],
   "source": [
    "df.columns"
   ]
  },
  {
   "cell_type": "code",
   "execution_count": 8,
   "id": "63347aa1",
   "metadata": {},
   "outputs": [
    {
     "data": {
      "text/plain": [
       "Pregnancies                 0\n",
       "Glucose                     0\n",
       "BloodPressure               0\n",
       "SkinThickness               0\n",
       "Insulin                     0\n",
       "BMI                         0\n",
       "DiabetesPedigreeFunction    0\n",
       "Age                         0\n",
       "Outcome                     0\n",
       "dtype: int64"
      ]
     },
     "execution_count": 8,
     "metadata": {},
     "output_type": "execute_result"
    }
   ],
   "source": [
    "df.isnull().sum()"
   ]
  },
  {
   "cell_type": "code",
   "execution_count": 9,
   "id": "ed5633e2",
   "metadata": {},
   "outputs": [
    {
     "data": {
      "text/plain": [
       "0"
      ]
     },
     "execution_count": 9,
     "metadata": {},
     "output_type": "execute_result"
    }
   ],
   "source": [
    "df.duplicated().sum()"
   ]
  },
  {
   "cell_type": "code",
   "execution_count": 11,
   "id": "a2d354f0",
   "metadata": {},
   "outputs": [],
   "source": [
    "X=df.drop('Outcome',axis=1)\n",
    "y=df['Outcome']"
   ]
  },
  {
   "cell_type": "markdown",
   "id": "b6d649ae",
   "metadata": {},
   "source": [
    "#Automated Hyperparameter Tuning\n",
    "\n",
    "Automated Hyperparameter Tuning can be done by using techniques such as\n",
    "\n",
    "Bayesian Optimization\n",
    "\n",
    "Gradient Descent\n",
    "\n",
    "Evolutionary Algorithms"
   ]
  },
  {
   "cell_type": "code",
   "execution_count": 22,
   "id": "4c38323c",
   "metadata": {},
   "outputs": [
    {
     "name": "stdout",
     "output_type": "stream",
     "text": [
      "Collecting hyperoptNote: you may need to restart the kernel to use updated packages.\n",
      "\n",
      "  Downloading hyperopt-0.2.7-py2.py3-none-any.whl (1.6 MB)\n",
      "     ---------------------------------------- 1.6/1.6 MB 4.8 MB/s eta 0:00:00\n",
      "Requirement already satisfied: networkx>=2.2 in c:\\users\\91822\\anaconda3\\lib\\site-packages (from hyperopt) (2.6.3)\n",
      "Requirement already satisfied: cloudpickle in c:\\users\\91822\\anaconda3\\lib\\site-packages (from hyperopt) (2.0.0)\n",
      "Requirement already satisfied: scipy in c:\\users\\91822\\anaconda3\\lib\\site-packages (from hyperopt) (1.7.3)\n",
      "Requirement already satisfied: tqdm in c:\\users\\91822\\anaconda3\\lib\\site-packages (from hyperopt) (4.64.1)\n",
      "Requirement already satisfied: six in c:\\users\\91822\\anaconda3\\lib\\site-packages (from hyperopt) (1.16.0)\n",
      "Collecting py4j\n",
      "  Downloading py4j-0.10.9.7-py2.py3-none-any.whl (200 kB)\n",
      "     -------------------------------------- 200.5/200.5 kB 4.0 MB/s eta 0:00:00\n",
      "Requirement already satisfied: numpy in c:\\users\\91822\\anaconda3\\lib\\site-packages (from hyperopt) (1.21.5)\n",
      "Requirement already satisfied: future in c:\\users\\91822\\anaconda3\\lib\\site-packages (from hyperopt) (0.18.2)\n",
      "Requirement already satisfied: colorama in c:\\users\\91822\\anaconda3\\lib\\site-packages (from tqdm->hyperopt) (0.4.5)\n",
      "Installing collected packages: py4j, hyperopt\n",
      "Successfully installed hyperopt-0.2.7 py4j-0.10.9.7\n"
     ]
    },
    {
     "name": "stderr",
     "output_type": "stream",
     "text": [
      "\n",
      "[notice] A new release of pip available: 22.3 -> 22.3.1\n",
      "[notice] To update, run: python.exe -m pip install --upgrade pip\n"
     ]
    }
   ],
   "source": [
    "pip install hyperopt"
   ]
  },
  {
   "cell_type": "code",
   "execution_count": 23,
   "id": "57513080",
   "metadata": {},
   "outputs": [],
   "source": [
    "\n",
    "from hyperopt import hp,fmin,tpe,STATUS_OK,Trials"
   ]
  },
  {
   "cell_type": "code",
   "execution_count": 24,
   "id": "ec9b8d5e",
   "metadata": {},
   "outputs": [],
   "source": [
    "space = {'criterion': hp.choice('criterion', ['entropy', 'gini']),\n",
    "        'max_depth': hp.quniform('max_depth', 10, 1200, 10),\n",
    "        'max_features': hp.choice('max_features', ['auto', 'sqrt','log2', None]),\n",
    "        'min_samples_leaf': hp.uniform('min_samples_leaf', 0, 0.5),\n",
    "        'min_samples_split' : hp.uniform ('min_samples_split', 0, 1),\n",
    "        'n_estimators' : hp.choice('n_estimators', [10, 50, 300, 750, 1200,1300,1500])\n",
    "    }"
   ]
  },
  {
   "cell_type": "code",
   "execution_count": 25,
   "id": "87a9cf79",
   "metadata": {},
   "outputs": [],
   "source": [
    "def objective(space):\n",
    "    model = RandomForestClassifier(criterion = space['criterion'], max_depth = space['max_depth'],\n",
    "                                 max_features = space['max_features'],\n",
    "                                 min_samples_leaf = space['min_samples_leaf'],\n",
    "                                 min_samples_split = space['min_samples_split'],\n",
    "                                 n_estimators = space['n_estimators'], \n",
    "                                 )\n",
    "    \n",
    "    accuracy = cross_val_score(model, X_train, y_train, cv = 5).mean()\n",
    "\n",
    "    # We aim to maximize accuracy, therefore we return it as a negative value\n",
    "    return {'loss': -accuracy, 'status': STATUS_OK }"
   ]
  },
  {
   "cell_type": "code",
   "execution_count": 27,
   "id": "b9f56083",
   "metadata": {},
   "outputs": [
    {
     "name": "stdout",
     "output_type": "stream",
     "text": [
      "100%|███████████████████████████████████████████████| 50/50 [06:13<00:00,  7.46s/trial, best loss: -0.7622284419565506]\n"
     ]
    },
    {
     "data": {
      "text/plain": [
       "{'criterion': 1,\n",
       " 'max_depth': 180.0,\n",
       " 'max_features': 2,\n",
       " 'min_samples_leaf': 0.0582019532100329,\n",
       " 'min_samples_split': 0.22465871994568035,\n",
       " 'n_estimators': 5}"
      ]
     },
     "execution_count": 27,
     "metadata": {},
     "output_type": "execute_result"
    }
   ],
   "source": [
    "from sklearn.model_selection import cross_val_score\n",
    "trials = Trials()\n",
    "best = fmin(fn= objective,\n",
    "            space= space,\n",
    "            algo= tpe.suggest,\n",
    "            max_evals = 50,\n",
    "            trials= trials)\n",
    "best"
   ]
  },
  {
   "cell_type": "code",
   "execution_count": 28,
   "id": "815980d1",
   "metadata": {},
   "outputs": [
    {
     "name": "stdout",
     "output_type": "stream",
     "text": [
      "gini\n",
      "log2\n",
      "1300\n"
     ]
    }
   ],
   "source": [
    "crit = {0: 'entropy', 1: 'gini'}\n",
    "feat = {0: 'auto', 1: 'sqrt', 2: 'log2', 3: None}\n",
    "est = {0: 10, 1: 50, 2: 300, 3: 750, 4: 1200,5:1300,6:1500}\n",
    "\n",
    "\n",
    "print(crit[best['criterion']])\n",
    "print(feat[best['max_features']])\n",
    "print(est[best['n_estimators']])"
   ]
  },
  {
   "cell_type": "code",
   "execution_count": 29,
   "id": "4edbd137",
   "metadata": {},
   "outputs": [
    {
     "data": {
      "text/plain": [
       "0.0582019532100329"
      ]
     },
     "execution_count": 29,
     "metadata": {},
     "output_type": "execute_result"
    }
   ],
   "source": [
    "best['min_samples_leaf']"
   ]
  },
  {
   "cell_type": "code",
   "execution_count": 30,
   "id": "87ea026c",
   "metadata": {},
   "outputs": [
    {
     "name": "stdout",
     "output_type": "stream",
     "text": [
      "[[97 10]\n",
      " [25 22]]\n",
      "0.7727272727272727\n",
      "              precision    recall  f1-score   support\n",
      "\n",
      "           0       0.80      0.91      0.85       107\n",
      "           1       0.69      0.47      0.56        47\n",
      "\n",
      "    accuracy                           0.77       154\n",
      "   macro avg       0.74      0.69      0.70       154\n",
      "weighted avg       0.76      0.77      0.76       154\n",
      "\n"
     ]
    }
   ],
   "source": [
    "trainedforest = RandomForestClassifier(criterion = crit[best['criterion']], max_depth = best['max_depth'], \n",
    "                                       max_features = feat[best['max_features']], \n",
    "                                       min_samples_leaf = best['min_samples_leaf'], \n",
    "                                       min_samples_split = best['min_samples_split'], \n",
    "                                       n_estimators = est[best['n_estimators']]).fit(X_train,y_train)\n",
    "predictionforest = trainedforest.predict(X_test)\n",
    "print(confusion_matrix(y_test,predictionforest))\n",
    "print(accuracy_score(y_test,predictionforest))\n",
    "print(classification_report(y_test,predictionforest))\n",
    "acc5 = accuracy_score(y_test,predictionforest)"
   ]
  },
  {
   "cell_type": "code",
   "execution_count": 31,
   "id": "87f943fd",
   "metadata": {},
   "outputs": [
    {
     "name": "stdout",
     "output_type": "stream",
     "text": [
      "{'n_estimators': [200, 400, 600, 800, 1000, 1200, 1400, 1600, 1800, 2000], 'max_features': ['auto', 'sqrt', 'log2'], 'max_depth': [10, 120, 230, 340, 450, 560, 670, 780, 890, 1000], 'min_samples_split': [2, 5, 10, 14], 'min_samples_leaf': [1, 2, 4, 6, 8], 'criterion': ['entropy', 'gini']}\n"
     ]
    }
   ],
   "source": [
    "import numpy as np\n",
    "from sklearn.model_selection import RandomizedSearchCV\n",
    "\n",
    "\n",
    "\n",
    "n_estimators = [int(x) for x in np.linspace(start = 200, stop = 2000, num = 10)]\n",
    "\n",
    "\n",
    "max_features = ['auto', 'sqrt','log2']\n",
    "\n",
    "\n",
    "max_depth = [int(x) for x in np.linspace(10, 1000,10)]\n",
    "\n",
    "\n",
    "min_samples_split = [2, 5, 10,14]\n",
    "\n",
    "\n",
    "min_samples_leaf = [1, 2, 4,6,8]\n",
    "\n",
    "\n",
    "param = {'n_estimators': n_estimators,\n",
    "               'max_features': max_features,\n",
    "               'max_depth': max_depth,\n",
    "               'min_samples_split': min_samples_split,\n",
    "               'min_samples_leaf': min_samples_leaf,\n",
    "              'criterion':['entropy','gini']}\n",
    "\n",
    "\n",
    "print(param)\n"
   ]
  },
  {
   "cell_type": "code",
   "execution_count": 32,
   "id": "d0ec7de2",
   "metadata": {},
   "outputs": [
    {
     "name": "stderr",
     "output_type": "stream",
     "text": [
      "C:\\Users\\91822\\anaconda3\\lib\\site-packages\\tpot\\builtins\\__init__.py:36: UserWarning: Warning: optional dependency `torch` is not available. - skipping import of NN models.\n",
      "  warnings.warn(\"Warning: optional dependency `torch` is not available. - skipping import of NN models.\")\n"
     ]
    },
    {
     "data": {
      "application/vnd.jupyter.widget-view+json": {
       "model_id": "",
       "version_major": 2,
       "version_minor": 0
      },
      "text/plain": [
       "Optimization Progress:   0%|          | 0/84 [00:00<?, ?pipeline/s]"
      ]
     },
     "metadata": {},
     "output_type": "display_data"
    },
    {
     "name": "stdout",
     "output_type": "stream",
     "text": [
      "\n",
      "Generation 1 - Current best internal CV score: 0.760578473813768\n",
      "\n",
      "Generation 2 - Current best internal CV score: 0.760578473813768\n",
      "\n",
      "Generation 3 - Current best internal CV score: 0.760578473813768\n",
      "\n",
      "Generation 4 - Current best internal CV score: 0.760578473813768\n",
      "\n",
      "Generation 5 - Current best internal CV score: 0.760578473813768\n",
      "\n",
      "Best pipeline: RandomForestClassifier(RandomForestClassifier(input_matrix, criterion=gini, max_depth=340, max_features=log2, min_samples_leaf=6, min_samples_split=14, n_estimators=1200), criterion=gini, max_depth=670, max_features=log2, min_samples_leaf=1, min_samples_split=14, n_estimators=1800)\n"
     ]
    },
    {
     "data": {
      "text/plain": [
       "TPOTClassifier(config_dict={'sklearn.ensemble.RandomForestClassifier': {'criterion': ['entropy',\n",
       "                                                                                      'gini'],\n",
       "                                                                        'max_depth': [10,\n",
       "                                                                                      120,\n",
       "                                                                                      230,\n",
       "                                                                                      340,\n",
       "                                                                                      450,\n",
       "                                                                                      560,\n",
       "                                                                                      670,\n",
       "                                                                                      780,\n",
       "                                                                                      890,\n",
       "                                                                                      1000],\n",
       "                                                                        'max_features': ['auto',\n",
       "                                                                                         'sqrt',\n",
       "                                                                                         'log2'],\n",
       "                                                                        'min_samples_leaf': [1,\n",
       "                                                                                             2,\n",
       "                                                                                             4,\n",
       "                                                                                             6,\n",
       "                                                                                             8],\n",
       "                                                                        'min_samples_split': [2,\n",
       "                                                                                              5,\n",
       "                                                                                              10,\n",
       "                                                                                              14],\n",
       "                                                                        'n_estimators': [200,\n",
       "                                                                                         400,\n",
       "                                                                                         600,\n",
       "                                                                                         800,\n",
       "                                                                                         1000,\n",
       "                                                                                         1200,\n",
       "                                                                                         1400,\n",
       "                                                                                         1600,\n",
       "                                                                                         1800,\n",
       "                                                                                         2000]}},\n",
       "               cv=4, early_stop=12, generations=5, offspring_size=12,\n",
       "               population_size=24, scoring='accuracy', verbosity=2)"
      ]
     },
     "execution_count": 32,
     "metadata": {},
     "output_type": "execute_result"
    }
   ],
   "source": [
    "from tpot import TPOTClassifier\n",
    "\n",
    "\n",
    "tpot_classifier = TPOTClassifier(generations= 5, population_size= 24, offspring_size= 12,\n",
    "                                 verbosity= 2, early_stop= 12,\n",
    "                                 config_dict={'sklearn.ensemble.RandomForestClassifier': param}, \n",
    "                                 cv = 4, scoring = 'accuracy')\n",
    "tpot_classifier.fit(X_train,y_train)"
   ]
  },
  {
   "cell_type": "code",
   "execution_count": 33,
   "id": "d99cfaad",
   "metadata": {},
   "outputs": [
    {
     "name": "stdout",
     "output_type": "stream",
     "text": [
      "0.8571428571428571\n"
     ]
    }
   ],
   "source": [
    "accuracy = tpot_classifier.score(X_test, y_test)\n",
    "print(accuracy)"
   ]
  },
  {
   "cell_type": "code",
   "execution_count": 35,
   "id": "fcd66af2",
   "metadata": {},
   "outputs": [
    {
     "name": "stdout",
     "output_type": "stream",
     "text": [
      "Collecting optuna\n",
      "  Downloading optuna-3.0.5-py3-none-any.whl (348 kB)\n",
      "     -------------------------------------- 348.5/348.5 kB 4.3 MB/s eta 0:00:00\n",
      "Requirement already satisfied: PyYAML in c:\\users\\91822\\anaconda3\\lib\\site-packages (from optuna) (6.0)\n",
      "Requirement already satisfied: scipy<1.9.0,>=1.7.0 in c:\\users\\91822\\anaconda3\\lib\\site-packages (from optuna) (1.7.3)\n",
      "Collecting colorlog\n",
      "  Downloading colorlog-6.7.0-py2.py3-none-any.whl (11 kB)\n",
      "Requirement already satisfied: packaging>=20.0 in c:\\users\\91822\\anaconda3\\lib\\site-packages (from optuna) (21.3)\n",
      "Requirement already satisfied: tqdm in c:\\users\\91822\\anaconda3\\lib\\site-packages (from optuna) (4.64.1)\n",
      "Collecting cmaes>=0.8.2\n",
      "  Downloading cmaes-0.9.0-py3-none-any.whl (23 kB)\n",
      "Collecting cliff\n",
      "  Downloading cliff-3.10.1-py3-none-any.whl (81 kB)\n",
      "     ---------------------------------------- 81.0/81.0 kB 4.7 MB/s eta 0:00:00\n",
      "Requirement already satisfied: numpy in c:\\users\\91822\\anaconda3\\lib\\site-packages (from optuna) (1.21.5)\n",
      "Requirement already satisfied: alembic>=1.5.0 in c:\\users\\91822\\anaconda3\\lib\\site-packages (from optuna) (1.7.7)\n",
      "Requirement already satisfied: importlib-metadata<5.0.0 in c:\\users\\91822\\anaconda3\\lib\\site-packages (from optuna) (4.11.3)\n",
      "Requirement already satisfied: sqlalchemy>=1.3.0 in c:\\users\\91822\\anaconda3\\lib\\site-packages (from optuna) (1.4.32)\n",
      "Requirement already satisfied: Mako in c:\\users\\91822\\anaconda3\\lib\\site-packages (from alembic>=1.5.0->optuna) (1.2.0)\n",
      "Requirement already satisfied: importlib-resources in c:\\users\\91822\\anaconda3\\lib\\site-packages (from alembic>=1.5.0->optuna) (5.6.0)\n",
      "Requirement already satisfied: zipp>=0.5 in c:\\users\\91822\\anaconda3\\lib\\site-packages (from importlib-metadata<5.0.0->optuna) (3.8.0)\n",
      "Requirement already satisfied: typing-extensions>=3.6.4 in c:\\users\\91822\\anaconda3\\lib\\site-packages (from importlib-metadata<5.0.0->optuna) (4.4.0)\n",
      "Requirement already satisfied: pyparsing!=3.0.5,>=2.0.2 in c:\\users\\91822\\anaconda3\\lib\\site-packages (from packaging>=20.0->optuna) (3.0.9)\n",
      "Requirement already satisfied: greenlet!=0.4.17 in c:\\users\\91822\\anaconda3\\lib\\site-packages (from sqlalchemy>=1.3.0->optuna) (1.1.2)\n",
      "Collecting pbr!=2.1.0,>=2.0.0\n",
      "  Downloading pbr-5.11.0-py2.py3-none-any.whl (112 kB)\n",
      "     -------------------------------------- 112.6/112.6 kB 6.4 MB/s eta 0:00:00\n",
      "Collecting autopage>=0.4.0\n",
      "  Downloading autopage-0.5.1-py3-none-any.whl (29 kB)\n",
      "Collecting cmd2>=1.0.0\n",
      "  Downloading cmd2-2.4.2-py3-none-any.whl (147 kB)\n",
      "     -------------------------------------- 147.1/147.1 kB 2.9 MB/s eta 0:00:00\n",
      "Collecting stevedore>=2.0.1\n",
      "  Downloading stevedore-3.5.2-py3-none-any.whl (50 kB)\n",
      "     ---------------------------------------- 50.2/50.2 kB 2.7 MB/s eta 0:00:00\n",
      "Collecting PrettyTable>=0.7.2\n",
      "  Downloading prettytable-3.5.0-py3-none-any.whl (26 kB)\n",
      "Requirement already satisfied: colorama in c:\\users\\91822\\anaconda3\\lib\\site-packages (from colorlog->optuna) (0.4.5)\n",
      "Collecting pyperclip>=1.6\n",
      "  Downloading pyperclip-1.8.2.tar.gz (20 kB)\n",
      "  Preparing metadata (setup.py): started\n",
      "  Preparing metadata (setup.py): finished with status 'done'\n",
      "Collecting pyreadline3\n",
      "  Downloading pyreadline3-3.4.1-py3-none-any.whl (95 kB)\n",
      "     ---------------------------------------- 95.2/95.2 kB 1.8 MB/s eta 0:00:00\n",
      "Requirement already satisfied: attrs>=16.3.0 in c:\\users\\91822\\anaconda3\\lib\\site-packages (from cmd2>=1.0.0->cliff->optuna) (21.4.0)\n",
      "Requirement already satisfied: wcwidth>=0.1.7 in c:\\users\\91822\\anaconda3\\lib\\site-packages (from cmd2>=1.0.0->cliff->optuna) (0.2.5)\n",
      "Requirement already satisfied: MarkupSafe>=0.9.2 in c:\\users\\91822\\anaconda3\\lib\\site-packages (from Mako->alembic>=1.5.0->optuna) (2.1.1)\n",
      "Building wheels for collected packages: pyperclip\n",
      "  Building wheel for pyperclip (setup.py): started\n",
      "  Building wheel for pyperclip (setup.py): finished with status 'done'\n",
      "  Created wheel for pyperclip: filename=pyperclip-1.8.2-py3-none-any.whl size=11123 sha256=f7523632e1d684f27c110d28dcf492fb8f816dbf87748b9338e14b98c79bb929\n",
      "  Stored in directory: c:\\users\\91822\\appdata\\local\\pip\\cache\\wheels\\36\\86\\43\\c32981b55b0d0a78b9762fd4fa7d6de0da0a46fd035cedfccb\n",
      "Successfully built pyperclip\n",
      "Installing collected packages: pyreadline3, pyperclip, pbr, colorlog, cmaes, autopage, stevedore, PrettyTable, cmd2, cliff, optuna\n",
      "Successfully installed PrettyTable-3.5.0 autopage-0.5.1 cliff-3.10.1 cmaes-0.9.0 cmd2-2.4.2 colorlog-6.7.0 optuna-3.0.5 pbr-5.11.0 pyperclip-1.8.2 pyreadline3-3.4.1 stevedore-3.5.2\n",
      "Note: you may need to restart the kernel to use updated packages.\n"
     ]
    },
    {
     "name": "stderr",
     "output_type": "stream",
     "text": [
      "\n",
      "[notice] A new release of pip available: 22.3 -> 22.3.1\n",
      "[notice] To update, run: python.exe -m pip install --upgrade pip\n"
     ]
    }
   ],
   "source": [
    "pip install optuna\n"
   ]
  },
  {
   "cell_type": "code",
   "execution_count": 36,
   "id": "e199fbb2",
   "metadata": {},
   "outputs": [],
   "source": [
    "import optuna\n",
    "import sklearn.svm\n",
    "def objective(trial):\n",
    "\n",
    "    classifier = trial.suggest_categorical('classifier', ['RandomForest', 'SVC'])\n",
    "    \n",
    "    if classifier == 'RandomForest':\n",
    "        n_estimators = trial.suggest_int('n_estimators', 200, 2000,10)\n",
    "        max_depth = int(trial.suggest_float('max_depth', 10, 100, log=True))\n",
    "\n",
    "        clf = sklearn.ensemble.RandomForestClassifier(\n",
    "            n_estimators=n_estimators, max_depth=max_depth)\n",
    "    else:\n",
    "        c = trial.suggest_float('svc_c', 1e-10, 1e10, log=True)\n",
    "        \n",
    "        clf = sklearn.svm.SVC(C=c, gamma='auto')\n",
    "\n",
    "    return sklearn.model_selection.cross_val_score(\n",
    "        clf,X_train,y_train, n_jobs=-1, cv=3).mean()"
   ]
  },
  {
   "cell_type": "code",
   "execution_count": 37,
   "id": "34251d5d",
   "metadata": {},
   "outputs": [
    {
     "name": "stderr",
     "output_type": "stream",
     "text": [
      "\u001b[32m[I 2022-12-26 12:43:13,788]\u001b[0m A new study created in memory with name: no-name-79182165-4be6-469c-9e59-ce605b89224a\u001b[0m\n",
      "\u001b[32m[I 2022-12-26 12:43:17,119]\u001b[0m Trial 0 finished with value: 0.640068547744301 and parameters: {'classifier': 'SVC', 'svc_c': 1.7355357058871802e-07}. Best is trial 0 with value: 0.640068547744301.\u001b[0m\n",
      "\u001b[32m[I 2022-12-26 12:43:18,405]\u001b[0m Trial 1 finished with value: 0.640068547744301 and parameters: {'classifier': 'SVC', 'svc_c': 0.0001082043583406641}. Best is trial 0 with value: 0.640068547744301.\u001b[0m\n",
      "\u001b[32m[I 2022-12-26 12:43:21,136]\u001b[0m Trial 2 finished with value: 0.7475450342738722 and parameters: {'classifier': 'RandomForest', 'n_estimators': 800, 'max_depth': 22.073408474161383}. Best is trial 2 with value: 0.7475450342738722.\u001b[0m\n",
      "\u001b[32m[I 2022-12-26 12:43:23,474]\u001b[0m Trial 3 finished with value: 0.7459110473457676 and parameters: {'classifier': 'RandomForest', 'n_estimators': 1310, 'max_depth': 73.99481379189717}. Best is trial 2 with value: 0.7475450342738722.\u001b[0m\n",
      "\u001b[32m[I 2022-12-26 12:43:26,313]\u001b[0m Trial 4 finished with value: 0.7508050374621393 and parameters: {'classifier': 'RandomForest', 'n_estimators': 1840, 'max_depth': 11.472928662720859}. Best is trial 4 with value: 0.7508050374621393.\u001b[0m\n",
      "\u001b[32m[I 2022-12-26 12:43:26,348]\u001b[0m Trial 5 finished with value: 0.640068547744301 and parameters: {'classifier': 'SVC', 'svc_c': 0.0009627021608547023}. Best is trial 4 with value: 0.7508050374621393.\u001b[0m\n",
      "\u001b[32m[I 2022-12-26 12:43:26,389]\u001b[0m Trial 6 finished with value: 0.640068547744301 and parameters: {'classifier': 'SVC', 'svc_c': 1044154.4485456779}. Best is trial 4 with value: 0.7508050374621393.\u001b[0m\n",
      "\u001b[32m[I 2022-12-26 12:43:27,925]\u001b[0m Trial 7 finished with value: 0.7459190180137095 and parameters: {'classifier': 'RandomForest', 'n_estimators': 1020, 'max_depth': 87.0807176620542}. Best is trial 4 with value: 0.7508050374621393.\u001b[0m\n",
      "\u001b[32m[I 2022-12-26 12:43:30,644]\u001b[0m Trial 8 finished with value: 0.7459269886816515 and parameters: {'classifier': 'RandomForest', 'n_estimators': 1760, 'max_depth': 72.70405781338168}. Best is trial 4 with value: 0.7508050374621393.\u001b[0m\n",
      "\u001b[32m[I 2022-12-26 12:43:30,681]\u001b[0m Trial 9 finished with value: 0.640068547744301 and parameters: {'classifier': 'SVC', 'svc_c': 1664515.0946445027}. Best is trial 4 with value: 0.7508050374621393.\u001b[0m\n",
      "\u001b[32m[I 2022-12-26 12:43:33,852]\u001b[0m Trial 10 finished with value: 0.7459269886816515 and parameters: {'classifier': 'RandomForest', 'n_estimators': 2000, 'max_depth': 10.164458337907577}. Best is trial 4 with value: 0.7508050374621393.\u001b[0m\n",
      "\u001b[32m[I 2022-12-26 12:43:34,189]\u001b[0m Trial 11 finished with value: 0.7459030766778256 and parameters: {'classifier': 'RandomForest', 'n_estimators': 220, 'max_depth': 13.685670397525554}. Best is trial 4 with value: 0.7508050374621393.\u001b[0m\n",
      "\u001b[32m[I 2022-12-26 12:43:35,297]\u001b[0m Trial 12 finished with value: 0.7491949625378607 and parameters: {'classifier': 'RandomForest', 'n_estimators': 710, 'max_depth': 25.1840661349205}. Best is trial 4 with value: 0.7508050374621393.\u001b[0m\n",
      "\u001b[32m[I 2022-12-26 12:43:36,098]\u001b[0m Trial 13 finished with value: 0.7393910409692332 and parameters: {'classifier': 'RandomForest', 'n_estimators': 520, 'max_depth': 31.666937942612368}. Best is trial 4 with value: 0.7508050374621393.\u001b[0m\n",
      "\u001b[32m[I 2022-12-26 12:43:38,358]\u001b[0m Trial 14 finished with value: 0.7459269886816515 and parameters: {'classifier': 'RandomForest', 'n_estimators': 1430, 'max_depth': 25.90682824280467}. Best is trial 4 with value: 0.7508050374621393.\u001b[0m\n",
      "\u001b[32m[I 2022-12-26 12:43:39,456]\u001b[0m Trial 15 finished with value: 0.744293001753547 and parameters: {'classifier': 'RandomForest', 'n_estimators': 690, 'max_depth': 42.12185322852266}. Best is trial 4 with value: 0.7508050374621393.\u001b[0m\n",
      "\u001b[32m[I 2022-12-26 12:43:41,825]\u001b[0m Trial 16 finished with value: 0.7459349593495935 and parameters: {'classifier': 'RandomForest', 'n_estimators': 1590, 'max_depth': 15.828437246092397}. Best is trial 4 with value: 0.7508050374621393.\u001b[0m\n",
      "\u001b[32m[I 2022-12-26 12:43:43,391]\u001b[0m Trial 17 finished with value: 0.7491869918699187 and parameters: {'classifier': 'RandomForest', 'n_estimators': 1010, 'max_depth': 48.48164801463213}. Best is trial 4 with value: 0.7508050374621393.\u001b[0m\n",
      "\u001b[32m[I 2022-12-26 12:43:43,973]\u001b[0m Trial 18 finished with value: 0.7475609756097561 and parameters: {'classifier': 'RandomForest', 'n_estimators': 360, 'max_depth': 17.626783967584252}. Best is trial 4 with value: 0.7508050374621393.\u001b[0m\n",
      "\u001b[32m[I 2022-12-26 12:43:45,901]\u001b[0m Trial 19 finished with value: 0.7475609756097561 and parameters: {'classifier': 'RandomForest', 'n_estimators': 1280, 'max_depth': 10.847634329805306}. Best is trial 4 with value: 0.7508050374621393.\u001b[0m\n",
      "\u001b[32m[I 2022-12-26 12:43:47,174]\u001b[0m Trial 20 finished with value: 0.7540730113183485 and parameters: {'classifier': 'RandomForest', 'n_estimators': 810, 'max_depth': 20.900348574212924}. Best is trial 20 with value: 0.7540730113183485.\u001b[0m\n",
      "\u001b[32m[I 2022-12-26 12:43:48,271]\u001b[0m Trial 21 finished with value: 0.7426510441575004 and parameters: {'classifier': 'RandomForest', 'n_estimators': 730, 'max_depth': 23.39642487209051}. Best is trial 20 with value: 0.7540730113183485.\u001b[0m\n",
      "\u001b[32m[I 2022-12-26 12:43:49,666]\u001b[0m Trial 22 finished with value: 0.7491630798660928 and parameters: {'classifier': 'RandomForest', 'n_estimators': 870, 'max_depth': 34.57342724655848}. Best is trial 20 with value: 0.7540730113183485.\u001b[0m\n",
      "\u001b[32m[I 2022-12-26 12:43:50,499]\u001b[0m Trial 23 finished with value: 0.7507970667941973 and parameters: {'classifier': 'RandomForest', 'n_estimators': 540, 'max_depth': 18.976025566924474}. Best is trial 20 with value: 0.7540730113183485.\u001b[0m\n",
      "\u001b[32m[I 2022-12-26 12:43:51,172]\u001b[0m Trial 24 finished with value: 0.75242308305436 and parameters: {'classifier': 'RandomForest', 'n_estimators': 420, 'max_depth': 18.158942606595296}. Best is trial 20 with value: 0.7540730113183485.\u001b[0m\n",
      "\u001b[32m[I 2022-12-26 12:43:51,880]\u001b[0m Trial 25 finished with value: 0.7491710505340348 and parameters: {'classifier': 'RandomForest', 'n_estimators': 460, 'max_depth': 13.219180893280353}. Best is trial 20 with value: 0.7540730113183485.\u001b[0m\n",
      "\u001b[32m[I 2022-12-26 12:43:53,667]\u001b[0m Trial 26 finished with value: 0.7524310537223019 and parameters: {'classifier': 'RandomForest', 'n_estimators': 1150, 'max_depth': 12.534691537510781}. Best is trial 20 with value: 0.7540730113183485.\u001b[0m\n",
      "\u001b[32m[I 2022-12-26 12:43:53,703]\u001b[0m Trial 27 finished with value: 0.640068547744301 and parameters: {'classifier': 'SVC', 'svc_c': 3.0682666517517203e-10}. Best is trial 20 with value: 0.7540730113183485.\u001b[0m\n",
      "\u001b[32m[I 2022-12-26 12:43:55,532]\u001b[0m Trial 28 finished with value: 0.7475530049418141 and parameters: {'classifier': 'RandomForest', 'n_estimators': 1140, 'max_depth': 14.607040988732656}. Best is trial 20 with value: 0.7540730113183485.\u001b[0m\n",
      "\u001b[32m[I 2022-12-26 12:43:55,571]\u001b[0m Trial 29 finished with value: 0.640068547744301 and parameters: {'classifier': 'SVC', 'svc_c': 55.73452071328853}. Best is trial 20 with value: 0.7540730113183485.\u001b[0m\n",
      "\u001b[32m[I 2022-12-26 12:43:57,007]\u001b[0m Trial 30 finished with value: 0.7475609756097561 and parameters: {'classifier': 'RandomForest', 'n_estimators': 920, 'max_depth': 19.947650917377395}. Best is trial 20 with value: 0.7540730113183485.\u001b[0m\n",
      "\u001b[32m[I 2022-12-26 12:43:59,675]\u001b[0m Trial 31 finished with value: 0.7394149529730591 and parameters: {'classifier': 'RandomForest', 'n_estimators': 1760, 'max_depth': 11.476582436458886}. Best is trial 20 with value: 0.7540730113183485.\u001b[0m\n",
      "\u001b[32m[I 2022-12-26 12:44:01,449]\u001b[0m Trial 32 finished with value: 0.7459190180137095 and parameters: {'classifier': 'RandomForest', 'n_estimators': 1170, 'max_depth': 12.868036583998881}. Best is trial 20 with value: 0.7540730113183485.\u001b[0m\n",
      "\u001b[32m[I 2022-12-26 12:44:01,830]\u001b[0m Trial 33 finished with value: 0.7393990116371753 and parameters: {'classifier': 'RandomForest', 'n_estimators': 230, 'max_depth': 16.22601871787546}. Best is trial 20 with value: 0.7540730113183485.\u001b[0m\n",
      "\u001b[32m[I 2022-12-26 12:44:04,193]\u001b[0m Trial 34 finished with value: 0.7459349593495935 and parameters: {'classifier': 'RandomForest', 'n_estimators': 1560, 'max_depth': 11.930602164414887}. Best is trial 20 with value: 0.7540730113183485.\u001b[0m\n"
     ]
    },
    {
     "name": "stderr",
     "output_type": "stream",
     "text": [
      "\u001b[32m[I 2022-12-26 12:44:04,243]\u001b[0m Trial 35 finished with value: 0.640068547744301 and parameters: {'classifier': 'SVC', 'svc_c': 2535886146.020355}. Best is trial 20 with value: 0.7540730113183485.\u001b[0m\n",
      "\u001b[32m[I 2022-12-26 12:44:05,275]\u001b[0m Trial 36 finished with value: 0.7443089430894309 and parameters: {'classifier': 'RandomForest', 'n_estimators': 610, 'max_depth': 16.22769496516934}. Best is trial 20 with value: 0.7540730113183485.\u001b[0m\n",
      "\u001b[32m[I 2022-12-26 12:44:05,827]\u001b[0m Trial 37 finished with value: 0.73614697911685 and parameters: {'classifier': 'RandomForest', 'n_estimators': 360, 'max_depth': 20.04848293948154}. Best is trial 20 with value: 0.7540730113183485.\u001b[0m\n",
      "\u001b[32m[I 2022-12-26 12:44:05,883]\u001b[0m Trial 38 finished with value: 0.640068547744301 and parameters: {'classifier': 'SVC', 'svc_c': 1.6561097869717656}. Best is trial 20 with value: 0.7540730113183485.\u001b[0m\n",
      "\u001b[32m[I 2022-12-26 12:44:07,172]\u001b[0m Trial 39 finished with value: 0.7459269886816515 and parameters: {'classifier': 'RandomForest', 'n_estimators': 820, 'max_depth': 21.91960951977459}. Best is trial 20 with value: 0.7540730113183485.\u001b[0m\n",
      "\u001b[32m[I 2022-12-26 12:44:10,106]\u001b[0m Trial 40 finished with value: 0.7475530049418141 and parameters: {'classifier': 'RandomForest', 'n_estimators': 1940, 'max_depth': 14.136546474261992}. Best is trial 20 with value: 0.7540730113183485.\u001b[0m\n",
      "\u001b[32m[I 2022-12-26 12:44:10,985]\u001b[0m Trial 41 finished with value: 0.7491869918699187 and parameters: {'classifier': 'RandomForest', 'n_estimators': 550, 'max_depth': 19.082337486738606}. Best is trial 20 with value: 0.7540730113183485.\u001b[0m\n",
      "\u001b[32m[I 2022-12-26 12:44:11,612]\u001b[0m Trial 42 finished with value: 0.7540650406504065 and parameters: {'classifier': 'RandomForest', 'n_estimators': 420, 'max_depth': 27.167350007878323}. Best is trial 20 with value: 0.7540730113183485.\u001b[0m\n",
      "\u001b[32m[I 2022-12-26 12:44:12,176]\u001b[0m Trial 43 finished with value: 0.7491710505340348 and parameters: {'classifier': 'RandomForest', 'n_estimators': 370, 'max_depth': 28.590926503066655}. Best is trial 20 with value: 0.7540730113183485.\u001b[0m\n",
      "\u001b[32m[I 2022-12-26 12:44:13,730]\u001b[0m Trial 44 finished with value: 0.7459190180137095 and parameters: {'classifier': 'RandomForest', 'n_estimators': 990, 'max_depth': 27.894873013376298}. Best is trial 20 with value: 0.7540730113183485.\u001b[0m\n",
      "\u001b[32m[I 2022-12-26 12:44:15,722]\u001b[0m Trial 45 finished with value: 0.736154949784792 and parameters: {'classifier': 'RandomForest', 'n_estimators': 1300, 'max_depth': 39.15146247594129}. Best is trial 20 with value: 0.7540730113183485.\u001b[0m\n",
      "\u001b[32m[I 2022-12-26 12:44:15,772]\u001b[0m Trial 46 finished with value: 0.640068547744301 and parameters: {'classifier': 'SVC', 'svc_c': 3995.5139387351364}. Best is trial 20 with value: 0.7540730113183485.\u001b[0m\n",
      "\u001b[32m[I 2022-12-26 12:44:18,514]\u001b[0m Trial 47 finished with value: 0.7524390243902439 and parameters: {'classifier': 'RandomForest', 'n_estimators': 1780, 'max_depth': 22.660941997039334}. Best is trial 20 with value: 0.7540730113183485.\u001b[0m\n",
      "\u001b[32m[I 2022-12-26 12:44:20,914]\u001b[0m Trial 48 finished with value: 0.7475530049418141 and parameters: {'classifier': 'RandomForest', 'n_estimators': 1560, 'max_depth': 22.84551197829902}. Best is trial 20 with value: 0.7540730113183485.\u001b[0m\n",
      "\u001b[32m[I 2022-12-26 12:44:23,119]\u001b[0m Trial 49 finished with value: 0.744300972421489 and parameters: {'classifier': 'RandomForest', 'n_estimators': 1440, 'max_depth': 31.477976506419196}. Best is trial 20 with value: 0.7540730113183485.\u001b[0m\n",
      "\u001b[32m[I 2022-12-26 12:44:24,112]\u001b[0m Trial 50 finished with value: 0.7426669854933844 and parameters: {'classifier': 'RandomForest', 'n_estimators': 640, 'max_depth': 21.797841610360187}. Best is trial 20 with value: 0.7540730113183485.\u001b[0m\n",
      "\u001b[32m[I 2022-12-26 12:44:26,717]\u001b[0m Trial 51 finished with value: 0.7508130081300813 and parameters: {'classifier': 'RandomForest', 'n_estimators': 1740, 'max_depth': 17.312128283336524}. Best is trial 20 with value: 0.7540730113183485.\u001b[0m\n",
      "\u001b[32m[I 2022-12-26 12:44:29,670]\u001b[0m Trial 52 finished with value: 0.7459269886816515 and parameters: {'classifier': 'RandomForest', 'n_estimators': 1900, 'max_depth': 17.408458329562464}. Best is trial 20 with value: 0.7540730113183485.\u001b[0m\n",
      "\u001b[32m[I 2022-12-26 12:44:32,332]\u001b[0m Trial 53 finished with value: 0.7508050374621393 and parameters: {'classifier': 'RandomForest', 'n_estimators': 1730, 'max_depth': 25.300043625178123}. Best is trial 20 with value: 0.7540730113183485.\u001b[0m\n",
      "\u001b[32m[I 2022-12-26 12:44:34,938]\u001b[0m Trial 54 finished with value: 0.7475530049418141 and parameters: {'classifier': 'RandomForest', 'n_estimators': 1650, 'max_depth': 14.809960124338705}. Best is trial 20 with value: 0.7540730113183485.\u001b[0m\n",
      "\u001b[32m[I 2022-12-26 12:44:37,118]\u001b[0m Trial 55 finished with value: 0.7475450342738722 and parameters: {'classifier': 'RandomForest', 'n_estimators': 1410, 'max_depth': 56.778441253759325}. Best is trial 20 with value: 0.7540730113183485.\u001b[0m\n",
      "\u001b[32m[I 2022-12-26 12:44:39,972]\u001b[0m Trial 56 finished with value: 0.7459190180137095 and parameters: {'classifier': 'RandomForest', 'n_estimators': 1820, 'max_depth': 17.856965695149796}. Best is trial 20 with value: 0.7540730113183485.\u001b[0m\n",
      "\u001b[32m[I 2022-12-26 12:44:40,678]\u001b[0m Trial 57 finished with value: 0.7410409692332217 and parameters: {'classifier': 'RandomForest', 'n_estimators': 450, 'max_depth': 28.399728874959848}. Best is trial 20 with value: 0.7540730113183485.\u001b[0m\n",
      "\u001b[32m[I 2022-12-26 12:44:41,824]\u001b[0m Trial 58 finished with value: 0.744293001753547 and parameters: {'classifier': 'RandomForest', 'n_estimators': 760, 'max_depth': 24.039607857878664}. Best is trial 20 with value: 0.7540730113183485.\u001b[0m\n",
      "\u001b[32m[I 2022-12-26 12:44:41,868]\u001b[0m Trial 59 finished with value: 0.640068547744301 and parameters: {'classifier': 'SVC', 'svc_c': 0.0019001391354373954}. Best is trial 20 with value: 0.7540730113183485.\u001b[0m\n",
      "\u001b[32m[I 2022-12-26 12:44:42,216]\u001b[0m Trial 60 finished with value: 0.7475370636059302 and parameters: {'classifier': 'RandomForest', 'n_estimators': 220, 'max_depth': 20.75057450684472}. Best is trial 20 with value: 0.7540730113183485.\u001b[0m\n",
      "\u001b[32m[I 2022-12-26 12:44:45,273]\u001b[0m Trial 61 finished with value: 0.7426669854933844 and parameters: {'classifier': 'RandomForest', 'n_estimators': 1980, 'max_depth': 10.659569572833782}. Best is trial 20 with value: 0.7540730113183485.\u001b[0m\n",
      "\u001b[32m[I 2022-12-26 12:44:47,977]\u001b[0m Trial 62 finished with value: 0.744293001753547 and parameters: {'classifier': 'RandomForest', 'n_estimators': 1740, 'max_depth': 25.645505528910302}. Best is trial 20 with value: 0.7540730113183485.\u001b[0m\n",
      "\u001b[32m[I 2022-12-26 12:44:50,605]\u001b[0m Trial 63 finished with value: 0.7491710505340348 and parameters: {'classifier': 'RandomForest', 'n_estimators': 1670, 'max_depth': 32.83115259790246}. Best is trial 20 with value: 0.7540730113183485.\u001b[0m\n",
      "\u001b[32m[I 2022-12-26 12:44:53,510]\u001b[0m Trial 64 finished with value: 0.7508130081300813 and parameters: {'classifier': 'RandomForest', 'n_estimators': 1850, 'max_depth': 26.250875841407037}. Best is trial 20 with value: 0.7540730113183485.\u001b[0m\n",
      "\u001b[32m[I 2022-12-26 12:44:56,285]\u001b[0m Trial 65 finished with value: 0.7475450342738722 and parameters: {'classifier': 'RandomForest', 'n_estimators': 1850, 'max_depth': 35.99439320171558}. Best is trial 20 with value: 0.7540730113183485.\u001b[0m\n",
      "\u001b[32m[I 2022-12-26 12:44:58,262]\u001b[0m Trial 66 finished with value: 0.7475450342738722 and parameters: {'classifier': 'RandomForest', 'n_estimators': 1220, 'max_depth': 28.047845704496854}. Best is trial 20 with value: 0.7540730113183485.\u001b[0m\n",
      "\u001b[32m[I 2022-12-26 12:44:59,847]\u001b[0m Trial 67 finished with value: 0.7410250278973378 and parameters: {'classifier': 'RandomForest', 'n_estimators': 1060, 'max_depth': 18.23865567485066}. Best is trial 20 with value: 0.7540730113183485.\u001b[0m\n",
      "\u001b[32m[I 2022-12-26 12:45:00,773]\u001b[0m Trial 68 finished with value: 0.7394069823051171 and parameters: {'classifier': 'RandomForest', 'n_estimators': 440, 'max_depth': 21.434347539310895}. Best is trial 20 with value: 0.7540730113183485.\u001b[0m\n",
      "\u001b[32m[I 2022-12-26 12:45:03,563]\u001b[0m Trial 69 finished with value: 0.7459030766778256 and parameters: {'classifier': 'RandomForest', 'n_estimators': 1840, 'max_depth': 16.04957783427674}. Best is trial 20 with value: 0.7540730113183485.\u001b[0m\n"
     ]
    },
    {
     "name": "stderr",
     "output_type": "stream",
     "text": [
      "\u001b[32m[I 2022-12-26 12:45:04,081]\u001b[0m Trial 70 finished with value: 0.7410489399011637 and parameters: {'classifier': 'RandomForest', 'n_estimators': 310, 'max_depth': 23.877835347269308}. Best is trial 20 with value: 0.7540730113183485.\u001b[0m\n",
      "\u001b[32m[I 2022-12-26 12:45:06,811]\u001b[0m Trial 71 finished with value: 0.7524310537223019 and parameters: {'classifier': 'RandomForest', 'n_estimators': 1730, 'max_depth': 26.103071051788003}. Best is trial 20 with value: 0.7540730113183485.\u001b[0m\n",
      "\u001b[32m[I 2022-12-26 12:45:09,258]\u001b[0m Trial 72 finished with value: 0.7508050374621393 and parameters: {'classifier': 'RandomForest', 'n_estimators': 1650, 'max_depth': 29.928716584083748}. Best is trial 20 with value: 0.7540730113183485.\u001b[0m\n",
      "\u001b[32m[I 2022-12-26 12:45:11,612]\u001b[0m Trial 73 finished with value: 0.7491790212019768 and parameters: {'classifier': 'RandomForest', 'n_estimators': 1510, 'max_depth': 96.7604895386999}. Best is trial 20 with value: 0.7540730113183485.\u001b[0m\n",
      "\u001b[32m[I 2022-12-26 12:45:14,496]\u001b[0m Trial 74 finished with value: 0.7491790212019768 and parameters: {'classifier': 'RandomForest', 'n_estimators': 1900, 'max_depth': 12.335435015395968}. Best is trial 20 with value: 0.7540730113183485.\u001b[0m\n",
      "\u001b[32m[I 2022-12-26 12:45:15,971]\u001b[0m Trial 75 finished with value: 0.7426590148254424 and parameters: {'classifier': 'RandomForest', 'n_estimators': 940, 'max_depth': 26.61724320569841}. Best is trial 20 with value: 0.7540730113183485.\u001b[0m\n",
      "\u001b[32m[I 2022-12-26 12:45:16,025]\u001b[0m Trial 76 finished with value: 0.640068547744301 and parameters: {'classifier': 'SVC', 'svc_c': 8037951025.379385}. Best is trial 20 with value: 0.7540730113183485.\u001b[0m\n",
      "\u001b[32m[I 2022-12-26 12:45:18,747]\u001b[0m Trial 77 finished with value: 0.744300972421489 and parameters: {'classifier': 'RandomForest', 'n_estimators': 1790, 'max_depth': 19.808089586943222}. Best is trial 20 with value: 0.7540730113183485.\u001b[0m\n",
      "\u001b[32m[I 2022-12-26 12:45:21,305]\u001b[0m Trial 78 finished with value: 0.7475530049418141 and parameters: {'classifier': 'RandomForest', 'n_estimators': 1710, 'max_depth': 23.941211760017993}. Best is trial 20 with value: 0.7540730113183485.\u001b[0m\n",
      "\u001b[32m[I 2022-12-26 12:45:24,395]\u001b[0m Trial 79 finished with value: 0.7524310537223019 and parameters: {'classifier': 'RandomForest', 'n_estimators': 2000, 'max_depth': 16.784226746794943}. Best is trial 20 with value: 0.7540730113183485.\u001b[0m\n",
      "\u001b[32m[I 2022-12-26 12:45:27,469]\u001b[0m Trial 80 finished with value: 0.7459269886816515 and parameters: {'classifier': 'RandomForest', 'n_estimators': 1990, 'max_depth': 14.869711744594897}. Best is trial 20 with value: 0.7540730113183485.\u001b[0m\n",
      "\u001b[32m[I 2022-12-26 12:45:30,900]\u001b[0m Trial 81 finished with value: 0.7491790212019768 and parameters: {'classifier': 'RandomForest', 'n_estimators': 1880, 'max_depth': 17.42316628683251}. Best is trial 20 with value: 0.7540730113183485.\u001b[0m\n",
      "\u001b[32m[I 2022-12-26 12:45:35,114]\u001b[0m Trial 82 finished with value: 0.7459349593495935 and parameters: {'classifier': 'RandomForest', 'n_estimators': 1920, 'max_depth': 22.694050409205943}. Best is trial 20 with value: 0.7540730113183485.\u001b[0m\n",
      "\u001b[32m[I 2022-12-26 12:45:37,032]\u001b[0m Trial 83 finished with value: 0.7475609756097561 and parameters: {'classifier': 'RandomForest', 'n_estimators': 620, 'max_depth': 13.617956544351177}. Best is trial 20 with value: 0.7540730113183485.\u001b[0m\n",
      "\u001b[32m[I 2022-12-26 12:45:41,154]\u001b[0m Trial 84 finished with value: 0.7524469950581859 and parameters: {'classifier': 'RandomForest', 'n_estimators': 1810, 'max_depth': 18.92857497397982}. Best is trial 20 with value: 0.7540730113183485.\u001b[0m\n",
      "\u001b[32m[I 2022-12-26 12:45:44,921]\u001b[0m Trial 85 finished with value: 0.7459269886816515 and parameters: {'classifier': 'RandomForest', 'n_estimators': 1790, 'max_depth': 18.94389626601973}. Best is trial 20 with value: 0.7540730113183485.\u001b[0m\n",
      "\u001b[32m[I 2022-12-26 12:45:50,302]\u001b[0m Trial 86 finished with value: 0.7475530049418141 and parameters: {'classifier': 'RandomForest', 'n_estimators': 1970, 'max_depth': 20.769866116304883}. Best is trial 20 with value: 0.7540730113183485.\u001b[0m\n",
      "\u001b[32m[I 2022-12-26 12:45:50,346]\u001b[0m Trial 87 finished with value: 0.640068547744301 and parameters: {'classifier': 'SVC', 'svc_c': 1.899660903904397e-10}. Best is trial 20 with value: 0.7540730113183485.\u001b[0m\n",
      "\u001b[32m[I 2022-12-26 12:45:51,244]\u001b[0m Trial 88 finished with value: 0.744293001753547 and parameters: {'classifier': 'RandomForest', 'n_estimators': 290, 'max_depth': 17.03647550033616}. Best is trial 20 with value: 0.7540730113183485.\u001b[0m\n",
      "\u001b[32m[I 2022-12-26 12:45:52,715]\u001b[0m Trial 89 finished with value: 0.7491869918699187 and parameters: {'classifier': 'RandomForest', 'n_estimators': 550, 'max_depth': 26.338555786609426}. Best is trial 20 with value: 0.7540730113183485.\u001b[0m\n",
      "\u001b[32m[I 2022-12-26 12:45:55,766]\u001b[0m Trial 90 finished with value: 0.7459429300175354 and parameters: {'classifier': 'RandomForest', 'n_estimators': 1400, 'max_depth': 16.551149665623537}. Best is trial 20 with value: 0.7540730113183485.\u001b[0m\n",
      "\u001b[32m[I 2022-12-26 12:45:59,322]\u001b[0m Trial 91 finished with value: 0.7491790212019768 and parameters: {'classifier': 'RandomForest', 'n_estimators': 1600, 'max_depth': 15.633317579960721}. Best is trial 20 with value: 0.7540730113183485.\u001b[0m\n",
      "\u001b[32m[I 2022-12-26 12:46:03,053]\u001b[0m Trial 92 finished with value: 0.7475530049418141 and parameters: {'classifier': 'RandomForest', 'n_estimators': 1810, 'max_depth': 18.61010736956158}. Best is trial 20 with value: 0.7540730113183485.\u001b[0m\n",
      "\u001b[32m[I 2022-12-26 12:46:06,431]\u001b[0m Trial 93 finished with value: 0.7491710505340348 and parameters: {'classifier': 'RandomForest', 'n_estimators': 1700, 'max_depth': 30.2406807116274}. Best is trial 20 with value: 0.7540730113183485.\u001b[0m\n",
      "\u001b[32m[I 2022-12-26 12:46:10,115]\u001b[0m Trial 94 finished with value: 0.7491710505340348 and parameters: {'classifier': 'RandomForest', 'n_estimators': 1860, 'max_depth': 19.80176670527}. Best is trial 20 with value: 0.7540730113183485.\u001b[0m\n",
      "\u001b[32m[I 2022-12-26 12:46:13,560]\u001b[0m Trial 95 finished with value: 0.7475530049418141 and parameters: {'classifier': 'RandomForest', 'n_estimators': 1620, 'max_depth': 22.233516038608414}. Best is trial 20 with value: 0.7540730113183485.\u001b[0m\n",
      "\u001b[32m[I 2022-12-26 12:46:15,122]\u001b[0m Trial 96 finished with value: 0.7475450342738722 and parameters: {'classifier': 'RandomForest', 'n_estimators': 820, 'max_depth': 25.172839905860577}. Best is trial 20 with value: 0.7540730113183485.\u001b[0m\n",
      "\u001b[32m[I 2022-12-26 12:46:18,632]\u001b[0m Trial 97 finished with value: 0.7410409692332217 and parameters: {'classifier': 'RandomForest', 'n_estimators': 1760, 'max_depth': 20.909232351008747}. Best is trial 20 with value: 0.7540730113183485.\u001b[0m\n",
      "\u001b[32m[I 2022-12-26 12:46:19,838]\u001b[0m Trial 98 finished with value: 0.7459429300175354 and parameters: {'classifier': 'RandomForest', 'n_estimators': 490, 'max_depth': 10.062886749459011}. Best is trial 20 with value: 0.7540730113183485.\u001b[0m\n",
      "\u001b[32m[I 2022-12-26 12:46:21,296]\u001b[0m Trial 99 finished with value: 0.744293001753547 and parameters: {'classifier': 'RandomForest', 'n_estimators': 700, 'max_depth': 24.28550251455743}. Best is trial 20 with value: 0.7540730113183485.\u001b[0m\n"
     ]
    },
    {
     "name": "stdout",
     "output_type": "stream",
     "text": [
      "Accuracy: 0.7540730113183485\n",
      "Best hyperparameters: {'classifier': 'RandomForest', 'n_estimators': 810, 'max_depth': 20.900348574212924}\n"
     ]
    }
   ],
   "source": [
    "study = optuna.create_study(direction='maximize')\n",
    "study.optimize(objective, n_trials=100)\n",
    "\n",
    "trial = study.best_trial\n",
    "\n",
    "print('Accuracy: {}'.format(trial.value))\n",
    "print(\"Best hyperparameters: {}\".format(trial.params))"
   ]
  },
  {
   "cell_type": "code",
   "execution_count": 38,
   "id": "34e359f5",
   "metadata": {},
   "outputs": [
    {
     "data": {
      "text/plain": [
       "{'classifier': 'RandomForest',\n",
       " 'n_estimators': 810,\n",
       " 'max_depth': 20.900348574212924}"
      ]
     },
     "execution_count": 38,
     "metadata": {},
     "output_type": "execute_result"
    }
   ],
   "source": [
    "study.best_params"
   ]
  },
  {
   "cell_type": "code",
   "execution_count": 39,
   "id": "92dbd34d",
   "metadata": {},
   "outputs": [
    {
     "data": {
      "text/plain": [
       "RandomForestClassifier(max_depth=30, n_estimators=330)"
      ]
     },
     "execution_count": 39,
     "metadata": {},
     "output_type": "execute_result"
    }
   ],
   "source": [
    "rf=RandomForestClassifier(n_estimators=330,max_depth=30)\n",
    "rf.fit(X_train,y_train)"
   ]
  },
  {
   "cell_type": "code",
   "execution_count": 40,
   "id": "cbef36ef",
   "metadata": {},
   "outputs": [
    {
     "name": "stdout",
     "output_type": "stream",
     "text": [
      "[[94 13]\n",
      " [16 31]]\n",
      "0.8116883116883117\n",
      "              precision    recall  f1-score   support\n",
      "\n",
      "           0       0.85      0.88      0.87       107\n",
      "           1       0.70      0.66      0.68        47\n",
      "\n",
      "    accuracy                           0.81       154\n",
      "   macro avg       0.78      0.77      0.77       154\n",
      "weighted avg       0.81      0.81      0.81       154\n",
      "\n"
     ]
    }
   ],
   "source": [
    "\n",
    "y_pred=rf.predict(X_test)\n",
    "print(confusion_matrix(y_test,y_pred))\n",
    "print(accuracy_score(y_test,y_pred))\n",
    "print(classification_report(y_test,y_pred))"
   ]
  },
  {
   "cell_type": "code",
   "execution_count": null,
   "id": "08f78daa",
   "metadata": {},
   "outputs": [],
   "source": []
  }
 ],
 "metadata": {
  "kernelspec": {
   "display_name": "Python 3 (ipykernel)",
   "language": "python",
   "name": "python3"
  },
  "language_info": {
   "codemirror_mode": {
    "name": "ipython",
    "version": 3
   },
   "file_extension": ".py",
   "mimetype": "text/x-python",
   "name": "python",
   "nbconvert_exporter": "python",
   "pygments_lexer": "ipython3",
   "version": "3.7.6"
  }
 },
 "nbformat": 4,
 "nbformat_minor": 5
}
